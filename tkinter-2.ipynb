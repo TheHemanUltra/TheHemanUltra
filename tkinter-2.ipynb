{
 "cells": [
  {
   "cell_type": "code",
   "execution_count": null,
   "metadata": {},
   "outputs": [],
   "source": [
    "from tkinter import *\n",
    "\n",
    "def motion(event):\n",
    "  print(\"Mouse position: (%s %s)\" % (event.x, event.y))\n",
    "  return\n",
    "\n",
    "master = Tk()\n",
    "whatever_you_do = \"Whatever you do will be insignificant, but it is very important that you do it.\\n(Mahatma Gandhi)\"\n",
    "msg = Message(master, text = whatever_you_do)\n",
    "msg.config(bg='lightgreen', font=('times', 24, 'italic'))\n",
    "msg.bind('<Motion>',motion)\n",
    "msg.pack()\n",
    "mainloop()"
   ]
  },
  {
   "cell_type": "code",
   "execution_count": null,
   "metadata": {},
   "outputs": [],
   "source": [
    "from tkinter import *\n",
    "def hello(event):\n",
    "    print(\"Single Click, Button-l\") \n",
    "def quit(event):                           \n",
    "    print(\"Double Click, so let's stop\") \n",
    "    import sys; sys.exit() \n",
    "\n",
    "widget = Button(None, text='Mouse Clicks')\n",
    "widget.pack()\n",
    "widget.bind('<Button-1>', hello)\n",
    "widget.bind('<Double-1>', quit) \n",
    "widget.mainloop()"
   ]
  },
  {
   "cell_type": "code",
   "execution_count": 4,
   "metadata": {},
   "outputs": [],
   "source": [
    "from tkinter import *\n",
    "def donothing():\n",
    "   filewin = Toplevel(root)\n",
    "   button = Button(filewin, text=\"Do nothing button\")\n",
    "   button.pack()\n",
    "   \n",
    "root = Tk()\n",
    "menubar = Menu(root)\n",
    "filemenu = Menu(menubar, tearoff = 0)\n",
    "filemenu.add_command(label=\"New\", command = donothing)\n",
    "filemenu.add_command(label = \"Open\", command = donothing)\n",
    "filemenu.add_command(label = \"Save\", command = donothing)\n",
    "filemenu.add_command(label = \"Save as...\", command = donothing)\n",
    "filemenu.add_command(label = \"Close\", command = donothing)\n",
    "\n",
    "filemenu.add_separator()\n",
    "\n",
    "filemenu.add_command(label = \"Exit\", command = root.quit)\n",
    "menubar.add_cascade(label = \"File\", menu = filemenu)\n",
    "editmenu = Menu(menubar, tearoff=0)\n",
    "editmenu.add_command(label = \"Undo\", command = donothing)\n",
    "\n",
    "editmenu.add_separator()\n",
    "\n",
    "editmenu.add_command(label = \"Cut\", command = donothing)\n",
    "editmenu.add_command(label = \"Copy\", command = donothing)\n",
    "editmenu.add_command(label = \"Paste\", command = donothing)\n",
    "editmenu.add_command(label = \"Delete\", command = donothing)\n",
    "editmenu.add_command(label = \"Select All\", command = donothing)\n",
    "\n",
    "menubar.add_cascade(label = \"Edit\", menu = editmenu)\n",
    "helpmenu = Menu(menubar, tearoff=0)\n",
    "helpmenu.add_command(label = \"Help Index\", command = donothing)\n",
    "helpmenu.add_command(label = \"About...\", command = donothing)\n",
    "menubar.add_cascade(label = \"Help\", menu = helpmenu)\n",
    "\n",
    "root.config(menu = menubar)\n",
    "root.mainloop()"
   ]
  },
  {
   "cell_type": "code",
   "execution_count": 6,
   "metadata": {},
   "outputs": [],
   "source": [
    "import tkinter as tk\n",
    "\n",
    "root = tk.Tk()\n",
    "\n",
    "w = tk.Label(root, text=\"Red Sun\", bg=\"red\", fg=\"white\")\n",
    "w.pack()\n",
    "w = tk.Label(root, text=\"Green Grass\", bg=\"green\", fg=\"black\")\n",
    "w.pack()\n",
    "w = tk.Label(root, text=\"Blue Sky\", bg=\"blue\", fg=\"white\")\n",
    "w.pack()\n",
    "\n",
    "tk.mainloop()"
   ]
  },
  {
   "cell_type": "code",
   "execution_count": 7,
   "metadata": {},
   "outputs": [],
   "source": [
    "import tkinter as tk\n",
    "\n",
    "root = tk.Tk()\n",
    "\n",
    "w = tk.Label(root, text=\"Red Sun\", bg=\"red\", fg=\"white\")\n",
    "w.pack(fill=tk.X)\n",
    "w = tk.Label(root, text=\"Green Grass\", bg=\"green\", fg=\"black\")\n",
    "w.pack(fill=tk.X)\n",
    "w = tk.Label(root, text=\"Blue Sky\", bg=\"blue\", fg=\"white\")\n",
    "w.pack(fill=tk.X)\n",
    "\n",
    "tk.mainloop()"
   ]
  },
  {
   "cell_type": "code",
   "execution_count": 8,
   "metadata": {},
   "outputs": [],
   "source": [
    "import tkinter as tk\n",
    "\n",
    "root = tk.Tk()\n",
    "w = tk.Label(root, text=\"Red Sun\", bg=\"red\", fg=\"white\")\n",
    "w.pack(fill=tk.X, padx=10)\n",
    "w = tk.Label(root, text=\"Green Grass\", bg=\"green\", fg=\"black\")\n",
    "w.pack(fill=tk.X, padx=10)\n",
    "w = tk.Label(root, text=\"Blue Sky\", bg=\"blue\", fg=\"white\")\n",
    "w.pack(fill=tk.X, padx=10)\n",
    "tk.mainloop()"
   ]
  },
  {
   "cell_type": "code",
   "execution_count": 10,
   "metadata": {},
   "outputs": [],
   "source": [
    "import tkinter as tk\n",
    "from tkinter import messagebox as mb\n",
    "\n",
    "def answer():\n",
    "    mb.showerror(\"Answer\", \"Sorry, no answer available\")\n",
    "\n",
    "def callback():\n",
    "    if mb.askyesno('Verify', 'Really quit?'):\n",
    "        mb.showwarning('Yes', 'Not yet implemented')\n",
    "    else:\n",
    "        mb.showinfo('No', 'Quit has been cancelled')\n",
    "\n",
    "tk.Button(text='Quit', command=callback).pack(fill=tk.X)\n",
    "tk.Button(text='Answer', command=answer).pack(fill=tk.X)\n",
    "tk.mainloop()\n"
   ]
  },
  {
   "cell_type": "code",
   "execution_count": 1,
   "metadata": {},
   "outputs": [
    {
     "name": "stdout",
     "output_type": "stream",
     "text": [
      "\n"
     ]
    }
   ],
   "source": [
    "import tkinter as tk\n",
    "from tkinter import filedialog as fd \n",
    "\n",
    "def callback():\n",
    "    name= fd.askopenfilename() \n",
    "    print(name)\n",
    "    \n",
    "errmsg = 'Error!'\n",
    "tk.Button(text='File Open', \n",
    "       command=callback).pack(fill=tk.X)\n",
    "tk.mainloop()"
   ]
  },
  {
   "cell_type": "code",
   "execution_count": 2,
   "metadata": {},
   "outputs": [],
   "source": [
    "import tkinter as tk\n",
    "\n",
    "root = tk.Tk()\n",
    "T = tk.Text(root, height=10, width=30)\n",
    "T.pack()\n",
    "quote = \"\"\"HAMLET: To be, or not to be--that is the question:\n",
    "Whether 'tis nobler in the mind to suffer\n",
    "The slings and arrows of outrageous fortune\n",
    "Or to take arms against a sea of troubles\n",
    "And by opposing end them. To die, to sleep--\n",
    "No more--and by a sleep to say we end\n",
    "The heartache, and the thousand natural shocks\n",
    "That flesh is heir to. 'Tis a consummation\n",
    "Devoutly to be wished.\"\"\"\n",
    "T.insert(tk.END, quote)\n",
    "tk.mainloop()"
   ]
  },
  {
   "cell_type": "code",
   "execution_count": 3,
   "metadata": {},
   "outputs": [],
   "source": [
    "import tkinter as tk\n",
    "\n",
    "root = tk.Tk()\n",
    "S = tk.Scrollbar(root)\n",
    "T = tk.Text(root, height=4, width=50)\n",
    "S.pack(side=tk.RIGHT, fill=tk.Y)\n",
    "T.pack(side=tk.LEFT, fill=tk.Y)\n",
    "S.config(command=T.yview)\n",
    "T.config(yscrollcommand=S.set)\n",
    "quote = \"\"\"HAMLET: To be, or not to be--that is the question:\n",
    "Whether 'tis nobler in the mind to suffer\n",
    "The slings and arrows of outrageous fortune\n",
    "Or to take arms against a sea of troubles\n",
    "And by opposing end them. To die, to sleep--\n",
    "No more--and by a sleep to say we end\n",
    "The heartache, and the thousand natural shocks\n",
    "That flesh is heir to. 'Tis a consummation\n",
    "Devoutly to be wished.\"\"\"\n",
    "T.insert(tk.END, quote)\n",
    "tk.mainloop()"
   ]
  },
  {
   "cell_type": "code",
   "execution_count": 5,
   "metadata": {},
   "outputs": [],
   "source": [
    "from tkinter import *\n",
    "\n",
    "master = Tk()\n",
    "w = Scale(master, from_=0, to=42)\n",
    "w.pack()\n",
    "w = Scale(master, from_=0, to=200, orient=HORIZONTAL)\n",
    "w.pack()\n",
    "\n",
    "mainloop()"
   ]
  },
  {
   "cell_type": "code",
   "execution_count": 1,
   "metadata": {},
   "outputs": [],
   "source": [
    "from tkinter import *\n",
    "\n",
    "def show_values():\n",
    "    print (w1.get(), w2.get())\n",
    "\n",
    "master = Tk()\n",
    "w1 = Scale(master, from_=0, to=42, tickinterval=8)\n",
    "w1.set(19)\n",
    "w1.pack()\n",
    "#w2 = Scale(master, from_=0, to=200,tickinterval=10, orient=HORIZONTAL)\n",
    "w2 = Scale(master, from_=0, to=200, length=600,tickinterval=10, orient=HORIZONTAL)\n",
    "w2.set(23)\n",
    "w2.pack()\n",
    "Button(master, text='Show', command=show_values).pack()\n",
    "\n",
    "mainloop()\n"
   ]
  },
  {
   "cell_type": "code",
   "execution_count": null,
   "metadata": {},
   "outputs": [],
   "source": []
  }
 ],
 "metadata": {
  "kernelspec": {
   "display_name": "Python 3",
   "language": "python",
   "name": "python3"
  },
  "language_info": {
   "codemirror_mode": {
    "name": "ipython",
    "version": 3
   },
   "file_extension": ".py",
   "mimetype": "text/x-python",
   "name": "python",
   "nbconvert_exporter": "python",
   "pygments_lexer": "ipython3",
   "version": "3.8.5"
  }
 },
 "nbformat": 4,
 "nbformat_minor": 4
}
